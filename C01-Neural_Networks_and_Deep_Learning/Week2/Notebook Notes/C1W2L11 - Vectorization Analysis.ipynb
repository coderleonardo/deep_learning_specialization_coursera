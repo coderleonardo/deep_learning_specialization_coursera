{
 "cells": [
  {
   "cell_type": "code",
   "execution_count": 1,
   "metadata": {
    "executionInfo": {
     "elapsed": 20,
     "status": "ok",
     "timestamp": 1637606998476,
     "user": {
      "displayName": "Leonardo Cesar Silva Dos Santos",
      "photoUrl": "https://lh3.googleusercontent.com/a-/AOh14GgIIKLypzLxTIapqJ-PNmAck-g6C4RXboEcIvLV=s64",
      "userId": "14319731191350667656"
     },
     "user_tz": 180
    },
    "id": "W4lOqHgXFtig"
   },
   "outputs": [],
   "source": [
    "# Simple code to see how fast Vectorization is compare to Non Vectorized \n",
    "\n",
    "import numpy as np\n",
    "import time\n",
    "import random"
   ]
  },
  {
   "cell_type": "code",
   "execution_count": null,
   "metadata": {
    "colab": {
     "base_uri": "https://localhost:8080/"
    },
    "executionInfo": {
     "elapsed": 969,
     "status": "ok",
     "timestamp": 1635948260963,
     "user": {
      "displayName": "Leonardo Cesar Silva Dos Santos",
      "photoUrl": "https://lh3.googleusercontent.com/a-/AOh14GgIIKLypzLxTIapqJ-PNmAck-g6C4RXboEcIvLV=s64",
      "userId": "14319731191350667656"
     },
     "user_tz": 180
    },
    "id": "aCZorpp7GMYQ",
    "outputId": "8ac1aa34-08af-4aa3-c622-ff1029946694"
   },
   "outputs": [
    {
     "name": "stdout",
     "output_type": "stream",
     "text": [
      "Value z = 249808.3855607307\n",
      "Vectorized Version:1.386404037475586ms\n",
      "-------------------------------------------------------\n",
      "Value z = 249808.38556073143\n",
      "Non Vectorized Version:678.5402297973633ms\n"
     ]
    }
   ],
   "source": [
    "w = np.random.rand(1000000)\n",
    "x = np.random.rand(1000000)\n",
    "\n",
    "tic = time.time()\n",
    "z = np.dot(w, x)\n",
    "toc = time.time()\n",
    "\n",
    "print('Value z = ' + str(z))\n",
    "print('Vectorized Version:' + str(1000 * (toc-tic)) + 'ms')\n",
    "\n",
    "z = 0 \n",
    "tic = time.time()\n",
    "for i in range(1000000):\n",
    "  z = z + (w[i] * x[i])\n",
    "toc = time.time()\n",
    "print('-------------------------------------------------------')\n",
    "\n",
    "print('Value z = ' + str(z))\n",
    "print('Non Vectorized Version:' + str(1000 * (toc-tic)) + 'ms')"
   ]
  },
  {
   "cell_type": "markdown",
   "metadata": {
    "id": "mYV5bNngHufi"
   },
   "source": [
    "**Whenever possible, avoid explicit for-loops**"
   ]
  },
  {
   "cell_type": "code",
   "execution_count": 3,
   "metadata": {
    "colab": {
     "base_uri": "https://localhost:8080/"
    },
    "executionInfo": {
     "elapsed": 255,
     "status": "ok",
     "timestamp": 1637607078426,
     "user": {
      "displayName": "Leonardo Cesar Silva Dos Santos",
      "photoUrl": "https://lh3.googleusercontent.com/a-/AOh14GgIIKLypzLxTIapqJ-PNmAck-g6C4RXboEcIvLV=s64",
      "userId": "14319731191350667656"
     },
     "user_tz": 180
    },
    "id": "kdHv2vIaLc_r",
    "outputId": "95daf125-7059-4e7a-9a1a-8a679be36fb9"
   },
   "outputs": [
    {
     "name": "stdout",
     "output_type": "stream",
     "text": [
      "(12288, 45)\n"
     ]
    }
   ],
   "source": [
    "# Exemplo\n",
    "A = np.random.randn(12288, 150)\n",
    "B = np.random.randn(150, 45)\n",
    "\n",
    "C = np.dot(A, B)\n",
    "print(C.shape)"
   ]
  },
  {
   "cell_type": "code",
   "execution_count": 5,
   "metadata": {
    "colab": {
     "base_uri": "https://localhost:8080/"
    },
    "executionInfo": {
     "elapsed": 330,
     "status": "ok",
     "timestamp": 1637607232314,
     "user": {
      "displayName": "Leonardo Cesar Silva Dos Santos",
      "photoUrl": "https://lh3.googleusercontent.com/a-/AOh14GgIIKLypzLxTIapqJ-PNmAck-g6C4RXboEcIvLV=s64",
      "userId": "14319731191350667656"
     },
     "user_tz": 180
    },
    "id": "9-5RnnOz_L0y",
    "outputId": "7a7eebce-c429-48e2-8e60-c339f0d1bb9c"
   },
   "outputs": [
    {
     "name": "stdout",
     "output_type": "stream",
     "text": [
      "(4, 3)\n"
     ]
    }
   ],
   "source": [
    "# Exemplo\n",
    "A = np.random.randn(3, 4)\n",
    "b = np.random.randn(4, 1)\n",
    "\n",
    "C = A.T + b\n",
    "print(C.shape)"
   ]
  },
  {
   "cell_type": "code",
   "execution_count": 7,
   "metadata": {
    "colab": {
     "base_uri": "https://localhost:8080/"
    },
    "executionInfo": {
     "elapsed": 299,
     "status": "ok",
     "timestamp": 1637607639135,
     "user": {
      "displayName": "Leonardo Cesar Silva Dos Santos",
      "photoUrl": "https://lh3.googleusercontent.com/a-/AOh14GgIIKLypzLxTIapqJ-PNmAck-g6C4RXboEcIvLV=s64",
      "userId": "14319731191350667656"
     },
     "user_tz": 180
    },
    "id": "TOL8dD67_ywQ",
    "outputId": "d00a6c52-3a72-4904-9b36-f9f0a45e9f30"
   },
   "outputs": [
    {
     "data": {
      "text/plain": [
       "array([[-0.04241433,  0.04428956, -0.01183061],\n",
       "       [ 0.60685415, -0.39545896, -0.17592869],\n",
       "       [ 0.34865958,  0.28846295, -0.06011009]])"
      ]
     },
     "execution_count": 7,
     "metadata": {},
     "output_type": "execute_result"
    }
   ],
   "source": [
    "# Exemplo\n",
    "A = np.random.randn(3, 3)\n",
    "b = np.random.randn(3, 1)\n",
    "\n",
    "c = A * b\n",
    "c"
   ]
  },
  {
   "cell_type": "code",
   "execution_count": null,
   "metadata": {
    "id": "MqRxYkcuATJN"
   },
   "outputs": [],
   "source": []
  }
 ],
 "metadata": {
  "colab": {
   "authorship_tag": "ABX9TyM6ARa7lud+7FOu37KRSFV1",
   "collapsed_sections": [],
   "name": "C1W2L11 - Vectorization Analysis.ipynb",
   "provenance": []
  },
  "kernelspec": {
   "display_name": "Python 3 (ipykernel)",
   "language": "python",
   "name": "python3"
  },
  "language_info": {
   "codemirror_mode": {
    "name": "ipython",
    "version": 3
   },
   "file_extension": ".py",
   "mimetype": "text/x-python",
   "name": "python",
   "nbconvert_exporter": "python",
   "pygments_lexer": "ipython3",
   "version": "3.8.10"
  }
 },
 "nbformat": 4,
 "nbformat_minor": 1
}
